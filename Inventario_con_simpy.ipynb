{
  "nbformat": 4,
  "nbformat_minor": 0,
  "metadata": {
    "colab": {
      "provenance": []
    },
    "kernelspec": {
      "name": "python3",
      "display_name": "Python 3"
    },
    "language_info": {
      "name": "python"
    }
  },
  "cells": [
    {
      "cell_type": "code",
      "source": [
        "! pip install --target=$nb_path simpy  # Se debe instalar la librería Simpy"
      ],
      "metadata": {
        "colab": {
          "base_uri": "https://localhost:8080/"
        },
        "id": "YR4ib1s1dn1C",
        "outputId": "bf4663e4-e8bf-4579-da3a-79262468b617"
      },
      "execution_count": 40,
      "outputs": [
        {
          "output_type": "stream",
          "name": "stdout",
          "text": [
            "Looking in indexes: https://pypi.org/simple, https://us-python.pkg.dev/colab-wheels/public/simple/\n",
            "Requirement already satisfied: simpy in /usr/local/lib/python3.10/dist-packages (4.0.1)\n"
          ]
        }
      ]
    },
    {
      "cell_type": "code",
      "source": [
        "import simpy            # Se instalan las librerías que se utilizarán para el código (esto sin tomar en cuenta la gráficación)\n",
        "import numpy as np"
      ],
      "metadata": {
        "id": "v3UVReMhoTuV"
      },
      "execution_count": 41,
      "outputs": []
    },
    {
      "cell_type": "code",
      "source": [
        "def warehouse_run(env, order_cutoff, order_target):        #Se define la función donde se inicia y ejecuta el problema\n",
        "  global inventory, balance, num_ordered                   #Se declarám las variables que serán utilizadas en el programa\n",
        "\n",
        "  inventory = order_target         #Inventario que se tiene como objetivo del pedido\n",
        "  balance = 0.0                    #Balance inicial que se refiere a la ganancia comenzará en cero\n",
        "  num_ordered = 0                  #Número de los pedidos por lo que se comenzará en cero\n",
        "\n",
        "  while True:           #Se hace uso de un ciclo infinito\n",
        "    interarrival = generate_interarrival()    #Se genera la llegada entre cada cliente\n",
        "    yield env.timeout(interarrival)           #Se genera la terminación del tiempo en que tarda en llegar cada cliente\n",
        "    balance -= inventory*2*interarrival       #Se genera la perdida de la ganancia asi como el inventario pedido\n",
        "    demand = generate_demand()                #Se genera la demanda de la llegada de cada cliente\n",
        "    if demand < inventory:         #Si la demanda es menor al inventario pedido\n",
        "      balance += 100*demand        #Se generan ganancias por la demanda del producto\n",
        "      inventory -= demand          #Se genera perdida al inventario pedido dando así la demanda del pedido\n",
        "      print ('{:.2f} sold {}'.format(env.now, demand))      #Se imprime el momento de la nueva demanda del producto\n",
        "    else:             #Si la demanda es mayor al inventario pedido\n",
        "      balance += 100*inventory     #Se genera ganancia asi como el inventario pedido\n",
        "      inventory = 0       #Ya no jay pedidos en el inventario\n",
        "      print ('{:.2f} sold {} (out of stock)'.format(env.now, inventory))     #Se imprime el moemto del nuevo inventario cuando esta agotado\n",
        "\n",
        "    if inventory < order_cutoff and num_ordered == 0:      #Si el inventario pedido es menor que el corte de orden y no hay cantidad\n",
        "      env.process(handle_order(env,order_target))         #de ordenes, entonces se ordena una nueva cantidad de productos para su llegada\n",
        "\n",
        "def handle_order (env,order_target):        #Se define la función donde se ordena la llegada del objetivo del pedido nuevo\n",
        "  global inventory, balance, num_ordered                  #Se vuelven a solicitar las variables declaradas anteriormente\n",
        "\n",
        "  num_ordered = order_target - inventory      #La cantidad de productos ordenados será el resultado de la llegada del objetivo del pedido menos el inventario de este\n",
        "  print ('{:.2f} placed order for {}'.format(env.now, num_ordered))    #Se imprime el momento de la nueva cantidad pedida\n",
        "  balance -= 50*num_ordered      #Se genera la perdida de la ganancia dada por la cantidad de productos pedidos\n",
        "  yield env.timeout(2.0)         #Se genera la terminación del tiempo en que tarda en llegar el producto, en este caso 2 días\n",
        "  inventory += num_ordered       #Se genera un aumento en el inventario por las cantidades ordenadas de producto\n",
        "  num_ordered = 0       #Ya no hay pedidos en espera por lo que será cero\n",
        "  print ('{:.2f} received order, {} in inventory'.format(env.now, inventory))    #Se imprime el momento del nuevo inventario por orden recibida\n",
        "\n",
        "def generate_interarrival():      #Se define la función que genera la llegada entre cada cliente\n",
        "  return np.random.exponential(1./5)      #Genera el tiempo que ha pasado\n",
        "\n",
        "def generate_demand():       #Se define la función que genera la demanda de la llegada de un cliente\n",
        "  return np.random.randint(1, 5)       #La demanda de un cliente\n",
        "\n",
        "obs_time = []       #Se genera una lista vacía para los tiempos de cada observación\n",
        "inventory_level = []       #Se genera una lista vacía para los niveles de inventario de cada observación\n",
        "\n",
        "def observe(env):        #Se define la función de las observaciones del inventario del pedido\n",
        "  global inventory       #Se vuelve a solicitar la variable inventario\n",
        "\n",
        "  while True:       #Se hace uso de un ciclo infinito\n",
        "    obs_time.append(env.now)               #Es la lista donde se almacenan los tiempos de cada observación\n",
        "    inventory_level.append(inventory)      #Es la lista donde se almacenan los niveles de inventario de cada observación\n",
        "    yield env.timeout(0.1)                 #Es el tiempo en que se registra cada observación, en este caso cada 0.1 días\n",
        "\n",
        "np.random.seed(0)       #Se hace la declaración de una semilla aleatoria\n",
        "\n",
        "env = simpy.Environment()                    #Se hace el entorno de simulación para simpy\n",
        "env.process(warehouse_run(env, 25, 50))      #Se hace el proceso de simulación con ciertos parámetros\n",
        "env.process(observe(env))                    #Se have el proceso de observación\n",
        "\n",
        "env.run(until = 5.0)       #Se ejecuta la simulación hasta el quinto día"
      ],
      "metadata": {
        "id": "PXlOCKwEJsAc",
        "colab": {
          "base_uri": "https://localhost:8080/"
        },
        "outputId": "1c82f066-5bbe-4782-9df7-6bd7cb15fbe9"
      },
      "execution_count": 42,
      "outputs": [
        {
          "output_type": "stream",
          "name": "stdout",
          "text": [
            "0.16 sold 2\n",
            "0.53 sold 4\n",
            "0.69 sold 2\n",
            "0.88 sold 3\n",
            "1.00 sold 3\n",
            "1.01 sold 1\n",
            "1.11 sold 3\n",
            "1.44 sold 3\n",
            "1.61 sold 2\n",
            "1.97 sold 1\n",
            "1.99 sold 4\n",
            "1.99 placed order for 28\n",
            "2.08 sold 2\n",
            "2.38 sold 4\n",
            "2.79 sold 4\n",
            "3.11 sold 4\n",
            "3.26 sold 4\n",
            "3.28 sold 1\n",
            "3.46 sold 2\n",
            "3.99 received order, 29 in inventory\n",
            "4.04 sold 4\n",
            "4.06 sold 4\n",
            "4.06 placed order for 29\n",
            "4.12 sold 4\n",
            "4.39 sold 1\n",
            "4.56 sold 1\n",
            "4.63 sold 2\n",
            "4.82 sold 1\n",
            "4.92 sold 1\n"
          ]
        }
      ]
    },
    {
      "cell_type": "code",
      "source": [
        "import matplotlib.pyplot as plt                                 #Se instala la librería para gráficar\n",
        "\n",
        "plt.figure()                                                    #Se imprimen la observaciones obtenidas de la simulación anterior\n",
        "plt.step(obs_time, inventory_level, where = 'post')\n",
        "plt.xlabel('Simulation time(days)')                             #Se imprime el título de los valores en el eje x\n",
        "plt.ylabel('inventory level')                                   #Se imprime el título de los valores en el eje y"
      ],
      "metadata": {
        "colab": {
          "base_uri": "https://localhost:8080/",
          "height": 466
        },
        "id": "F7EVQ94p7M11",
        "outputId": "c852eca3-0de5-4b50-afa9-d6a0be1c724a"
      },
      "execution_count": 43,
      "outputs": [
        {
          "output_type": "execute_result",
          "data": {
            "text/plain": [
              "Text(0, 0.5, 'inventory level')"
            ]
          },
          "metadata": {},
          "execution_count": 43
        },
        {
          "output_type": "display_data",
          "data": {
            "text/plain": [
              "<Figure size 640x480 with 1 Axes>"
            ],
            "image/png": "[encoded data removed]"
          },
          "metadata": {}
        }
      ]
    },
    {
      "cell_type": "code",
      "source": [
        "balance #Ganancias finales"
      ],
      "metadata": {
        "colab": {
          "base_uri": "https://localhost:8080/"
        },
        "id": "B0YcWAa70CiG",
        "outputId": "5f0da775-c3c4-4435-c446-f8b8f70dabb2"
      },
      "execution_count": 44,
      "outputs": [
        {
          "output_type": "execute_result",
          "data": {
            "text/plain": [
              "3598.0915258221166"
            ]
          },
          "metadata": {},
          "execution_count": 44
        }
      ]
    }
  ]
}